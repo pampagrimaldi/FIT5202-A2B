{
 "cells": [
  {
   "cell_type": "markdown",
   "metadata": {},
   "source": [
    "# 3. Consuming data using Kafka\n",
    "In this task, we will implement an Apache Kafka consumer to consume the data from task 2.8b.\n",
    "\n",
    "Important: \n",
    "- In this task, use Kafka consumer to consume the streaming data published from task 2.8b.\n",
    "- Do not use Spark in this task\n",
    "\n",
    "Draw a line chart using the data you received. Use timestamp(the key of the data you received) as the x axis, and the avg weekly salsed of each type store as y axis. The plot should be update after each time you received new batch of data."
   ]
  },
  {
   "cell_type": "code",
   "execution_count": 15,
   "metadata": {},
   "outputs": [
    {
     "name": "stdout",
     "output_type": "stream",
     "text": [
      "reading...\n",
      "[{'key': '1675678735', 'value': '{\"Type\":\"B\",\"predict_weekly_sales\":746334.0409719993}'}, {'key': '1675678735', 'value': '{\"Type\":\"A\",\"predict_weekly_sales\":1236214.7219280126}'}, {'key': '1675678735', 'value': '{\"Type\":\"C\",\"predict_weekly_sales\":462513.6855415832}'}]\n",
      "[{'key': '1675678740', 'value': '{\"Type\":\"A\",\"predict_weekly_sales\":1229553.5109643727}'}, {'key': '1675678740', 'value': '{\"Type\":\"C\",\"predict_weekly_sales\":486815.7436618325}'}, {'key': '1675678740', 'value': '{\"Type\":\"B\",\"predict_weekly_sales\":712778.911830278}'}]\n",
      "[{'key': '1675678745', 'value': '{\"Type\":\"B\",\"predict_weekly_sales\":692372.6273325369}'}, {'key': '1675678745', 'value': '{\"Type\":\"C\",\"predict_weekly_sales\":477120.2155093286}'}, {'key': '1675678745', 'value': '{\"Type\":\"A\",\"predict_weekly_sales\":1220659.8137514077}'}]\n",
      "[{'key': '1675678750', 'value': '{\"Type\":\"C\",\"predict_weekly_sales\":468629.295247925}'}, {'key': '1675678750', 'value': '{\"Type\":\"A\",\"predict_weekly_sales\":1263867.089727346}'}, {'key': '1675678750', 'value': '{\"Type\":\"B\",\"predict_weekly_sales\":743036.3018347232}'}]\n",
      "[{'key': '1675678755', 'value': '{\"Type\":\"A\",\"predict_weekly_sales\":1335662.4437266293}'}, {'key': '1675678755', 'value': '{\"Type\":\"B\",\"predict_weekly_sales\":792859.188456129}'}, {'key': '1675678755', 'value': '{\"Type\":\"C\",\"predict_weekly_sales\":488495.0968021156}'}]\n",
      "[{'key': '1675678760', 'value': '{\"Type\":\"C\",\"predict_weekly_sales\":500389.9926963562}'}, {'key': '1675678760', 'value': '{\"Type\":\"A\",\"predict_weekly_sales\":1374852.9877168664}'}, {'key': '1675678760', 'value': '{\"Type\":\"B\",\"predict_weekly_sales\":818612.6164457507}'}]\n",
      "[{'key': '1675678765', 'value': '{\"Type\":\"B\",\"predict_weekly_sales\":854226.7778358578}'}, {'key': '1675678765', 'value': '{\"Type\":\"C\",\"predict_weekly_sales\":474085.7858637011}'}, {'key': '1675678765', 'value': '{\"Type\":\"A\",\"predict_weekly_sales\":1391950.8633677827}'}]\n",
      "[{'key': '1675678770', 'value': '{\"Type\":\"C\",\"predict_weekly_sales\":466729.7904293618}'}, {'key': '1675678770', 'value': '{\"Type\":\"A\",\"predict_weekly_sales\":1400590.5367864454}'}, {'key': '1675678770', 'value': '{\"Type\":\"B\",\"predict_weekly_sales\":849264.3281065967}'}]\n",
      "[{'key': '1675678775', 'value': '{\"Type\":\"C\",\"predict_weekly_sales\":486792.45254673716}'}, {'key': '1675678775', 'value': '{\"Type\":\"B\",\"predict_weekly_sales\":831173.3227910938}'}, {'key': '1675678775', 'value': '{\"Type\":\"A\",\"predict_weekly_sales\":1382772.578809184}'}]\n",
      "[{'key': '1675678780', 'value': '{\"Type\":\"B\",\"predict_weekly_sales\":809899.9319525587}'}, {'key': '1675678780', 'value': '{\"Type\":\"A\",\"predict_weekly_sales\":1353276.60828361}'}, {'key': '1675678780', 'value': '{\"Type\":\"C\",\"predict_weekly_sales\":482193.5494702137}'}]\n",
      "[{'key': '1675678785', 'value': '{\"Type\":\"B\",\"predict_weekly_sales\":785794.8372350506}'}, {'key': '1675678785', 'value': '{\"Type\":\"A\",\"predict_weekly_sales\":1347757.8122740272}'}, {'key': '1675678785', 'value': '{\"Type\":\"C\",\"predict_weekly_sales\":468332.05450029095}'}]\n",
      "[{'key': '1675678790', 'value': '{\"Type\":\"A\",\"predict_weekly_sales\":1366677.969941727}'}, {'key': '1675678790', 'value': '{\"Type\":\"C\",\"predict_weekly_sales\":461199.03807272343}'}, {'key': '1675678790', 'value': '{\"Type\":\"B\",\"predict_weekly_sales\":782374.09776024}'}]\n",
      "[{'key': '1675678795', 'value': '{\"Type\":\"C\",\"predict_weekly_sales\":480421.53540779714}'}, {'key': '1675678795', 'value': '{\"Type\":\"A\",\"predict_weekly_sales\":1396432.8943823157}'}, {'key': '1675678795', 'value': '{\"Type\":\"B\",\"predict_weekly_sales\":782802.7561369439}'}]\n",
      "[{'key': '1675678800', 'value': '{\"Type\":\"C\",\"predict_weekly_sales\":493533.7203511245}'}, {'key': '1675678800', 'value': '{\"Type\":\"A\",\"predict_weekly_sales\":1376662.3910194365}'}, {'key': '1675678800', 'value': '{\"Type\":\"B\",\"predict_weekly_sales\":773835.6477635637}'}]\n"
     ]
    },
    {
     "ename": "KeyboardInterrupt",
     "evalue": "",
     "output_type": "error",
     "traceback": [
      "\u001b[0;31m---------------------------------------------------------------------------\u001b[0m",
      "\u001b[0;31mKeyboardInterrupt\u001b[0m                         Traceback (most recent call last)",
      "Cell \u001b[0;32mIn[15], line 44\u001b[0m\n\u001b[1;32m     42\u001b[0m \u001b[38;5;28mprint\u001b[39m(\u001b[38;5;124m\"\u001b[39m\u001b[38;5;124mreading...\u001b[39m\u001b[38;5;124m\"\u001b[39m)\n\u001b[1;32m     43\u001b[0m consumer \u001b[38;5;241m=\u001b[39m connect_kafka_consumer()\n\u001b[0;32m---> 44\u001b[0m \u001b[43mconsume_messages\u001b[49m\u001b[43m(\u001b[49m\u001b[43mconsumer\u001b[49m\u001b[43m)\u001b[49m\n\u001b[1;32m     45\u001b[0m sleep(\u001b[38;5;241m5\u001b[39m)\n",
      "Cell \u001b[0;32mIn[15], line 35\u001b[0m, in \u001b[0;36mconsume_messages\u001b[0;34m(consumer)\u001b[0m\n\u001b[1;32m     33\u001b[0m \u001b[38;5;28;01mdef\u001b[39;00m \u001b[38;5;21mconsume_messages\u001b[39m(consumer):\n\u001b[1;32m     34\u001b[0m     \u001b[38;5;28;01mtry\u001b[39;00m:\n\u001b[0;32m---> 35\u001b[0m         \u001b[38;5;28;01mfor\u001b[39;00m message \u001b[38;5;129;01min\u001b[39;00m consumer:\n\u001b[1;32m     36\u001b[0m             \u001b[38;5;28;01mif\u001b[39;00m \u001b[38;5;28mlen\u001b[39m(message\u001b[38;5;241m.\u001b[39mvalue) \u001b[38;5;241m!=\u001b[39m \u001b[38;5;241m0\u001b[39m:\n\u001b[1;32m     37\u001b[0m                 \u001b[38;5;28mprint\u001b[39m(message\u001b[38;5;241m.\u001b[39mvalue)\n",
      "File \u001b[0;32m/opt/conda/lib/python3.8/site-packages/kafka3/consumer/group.py:1197\u001b[0m, in \u001b[0;36mKafkaConsumer.__next__\u001b[0;34m(self)\u001b[0m\n\u001b[1;32m   1195\u001b[0m     \u001b[38;5;28;01mreturn\u001b[39;00m \u001b[38;5;28mself\u001b[39m\u001b[38;5;241m.\u001b[39mnext_v1()\n\u001b[1;32m   1196\u001b[0m \u001b[38;5;28;01melse\u001b[39;00m:\n\u001b[0;32m-> 1197\u001b[0m     \u001b[38;5;28;01mreturn\u001b[39;00m \u001b[38;5;28;43mself\u001b[39;49m\u001b[38;5;241;43m.\u001b[39;49m\u001b[43mnext_v2\u001b[49m\u001b[43m(\u001b[49m\u001b[43m)\u001b[49m\n",
      "File \u001b[0;32m/opt/conda/lib/python3.8/site-packages/kafka3/consumer/group.py:1205\u001b[0m, in \u001b[0;36mKafkaConsumer.next_v2\u001b[0;34m(self)\u001b[0m\n\u001b[1;32m   1203\u001b[0m     \u001b[38;5;28mself\u001b[39m\u001b[38;5;241m.\u001b[39m_iterator \u001b[38;5;241m=\u001b[39m \u001b[38;5;28mself\u001b[39m\u001b[38;5;241m.\u001b[39m_message_generator_v2()\n\u001b[1;32m   1204\u001b[0m \u001b[38;5;28;01mtry\u001b[39;00m:\n\u001b[0;32m-> 1205\u001b[0m     \u001b[38;5;28;01mreturn\u001b[39;00m \u001b[38;5;28;43mnext\u001b[39;49m\u001b[43m(\u001b[49m\u001b[38;5;28;43mself\u001b[39;49m\u001b[38;5;241;43m.\u001b[39;49m\u001b[43m_iterator\u001b[49m\u001b[43m)\u001b[49m\n\u001b[1;32m   1206\u001b[0m \u001b[38;5;28;01mexcept\u001b[39;00m \u001b[38;5;167;01mStopIteration\u001b[39;00m:\n\u001b[1;32m   1207\u001b[0m     \u001b[38;5;28mself\u001b[39m\u001b[38;5;241m.\u001b[39m_iterator \u001b[38;5;241m=\u001b[39m \u001b[38;5;28;01mNone\u001b[39;00m\n",
      "File \u001b[0;32m/opt/conda/lib/python3.8/site-packages/kafka3/consumer/group.py:1120\u001b[0m, in \u001b[0;36mKafkaConsumer._message_generator_v2\u001b[0;34m(self)\u001b[0m\n\u001b[1;32m   1118\u001b[0m \u001b[38;5;28;01mdef\u001b[39;00m \u001b[38;5;21m_message_generator_v2\u001b[39m(\u001b[38;5;28mself\u001b[39m):\n\u001b[1;32m   1119\u001b[0m     timeout_ms \u001b[38;5;241m=\u001b[39m \u001b[38;5;241m1000\u001b[39m \u001b[38;5;241m*\u001b[39m (\u001b[38;5;28mself\u001b[39m\u001b[38;5;241m.\u001b[39m_consumer_timeout \u001b[38;5;241m-\u001b[39m time\u001b[38;5;241m.\u001b[39mtime())\n\u001b[0;32m-> 1120\u001b[0m     record_map \u001b[38;5;241m=\u001b[39m \u001b[38;5;28;43mself\u001b[39;49m\u001b[38;5;241;43m.\u001b[39;49m\u001b[43mpoll\u001b[49m\u001b[43m(\u001b[49m\u001b[43mtimeout_ms\u001b[49m\u001b[38;5;241;43m=\u001b[39;49m\u001b[43mtimeout_ms\u001b[49m\u001b[43m,\u001b[49m\u001b[43m \u001b[49m\u001b[43mupdate_offsets\u001b[49m\u001b[38;5;241;43m=\u001b[39;49m\u001b[38;5;28;43;01mFalse\u001b[39;49;00m\u001b[43m)\u001b[49m\n\u001b[1;32m   1121\u001b[0m     \u001b[38;5;28;01mfor\u001b[39;00m tp, records \u001b[38;5;129;01min\u001b[39;00m six\u001b[38;5;241m.\u001b[39miteritems(record_map):\n\u001b[1;32m   1122\u001b[0m         \u001b[38;5;66;03m# Generators are stateful, and it is possible that the tp / records\u001b[39;00m\n\u001b[1;32m   1123\u001b[0m         \u001b[38;5;66;03m# here may become stale during iteration -- i.e., we seek to a\u001b[39;00m\n\u001b[1;32m   1124\u001b[0m         \u001b[38;5;66;03m# different offset, pause consumption, or lose assignment.\u001b[39;00m\n\u001b[1;32m   1125\u001b[0m         \u001b[38;5;28;01mfor\u001b[39;00m record \u001b[38;5;129;01min\u001b[39;00m records:\n\u001b[1;32m   1126\u001b[0m             \u001b[38;5;66;03m# is_fetchable(tp) should handle assignment changes and offset\u001b[39;00m\n\u001b[1;32m   1127\u001b[0m             \u001b[38;5;66;03m# resets; for all other changes (e.g., seeks) we'll rely on the\u001b[39;00m\n\u001b[1;32m   1128\u001b[0m             \u001b[38;5;66;03m# outer function destroying the existing iterator/generator\u001b[39;00m\n\u001b[1;32m   1129\u001b[0m             \u001b[38;5;66;03m# via self._iterator = None\u001b[39;00m\n",
      "File \u001b[0;32m/opt/conda/lib/python3.8/site-packages/kafka3/consumer/group.py:657\u001b[0m, in \u001b[0;36mKafkaConsumer.poll\u001b[0;34m(self, timeout_ms, max_records, update_offsets)\u001b[0m\n\u001b[1;32m    655\u001b[0m remaining \u001b[38;5;241m=\u001b[39m timeout_ms\n\u001b[1;32m    656\u001b[0m \u001b[38;5;28;01mwhile\u001b[39;00m \u001b[38;5;129;01mnot\u001b[39;00m \u001b[38;5;28mself\u001b[39m\u001b[38;5;241m.\u001b[39m_closed:\n\u001b[0;32m--> 657\u001b[0m     records \u001b[38;5;241m=\u001b[39m \u001b[38;5;28;43mself\u001b[39;49m\u001b[38;5;241;43m.\u001b[39;49m\u001b[43m_poll_once\u001b[49m\u001b[43m(\u001b[49m\u001b[43mremaining\u001b[49m\u001b[43m,\u001b[49m\u001b[43m \u001b[49m\u001b[43mmax_records\u001b[49m\u001b[43m,\u001b[49m\u001b[43m \u001b[49m\u001b[43mupdate_offsets\u001b[49m\u001b[38;5;241;43m=\u001b[39;49m\u001b[43mupdate_offsets\u001b[49m\u001b[43m)\u001b[49m\n\u001b[1;32m    658\u001b[0m     \u001b[38;5;28;01mif\u001b[39;00m records:\n\u001b[1;32m    659\u001b[0m         \u001b[38;5;28;01mreturn\u001b[39;00m records\n",
      "File \u001b[0;32m/opt/conda/lib/python3.8/site-packages/kafka3/consumer/group.py:706\u001b[0m, in \u001b[0;36mKafkaConsumer._poll_once\u001b[0;34m(self, timeout_ms, max_records, update_offsets)\u001b[0m\n\u001b[1;32m    703\u001b[0m     \u001b[38;5;28mself\u001b[39m\u001b[38;5;241m.\u001b[39m_client\u001b[38;5;241m.\u001b[39mpoll(timeout_ms\u001b[38;5;241m=\u001b[39m\u001b[38;5;241m0\u001b[39m)\n\u001b[1;32m    705\u001b[0m timeout_ms \u001b[38;5;241m=\u001b[39m \u001b[38;5;28mmin\u001b[39m(timeout_ms, \u001b[38;5;28mself\u001b[39m\u001b[38;5;241m.\u001b[39m_coordinator\u001b[38;5;241m.\u001b[39mtime_to_next_poll() \u001b[38;5;241m*\u001b[39m \u001b[38;5;241m1000\u001b[39m)\n\u001b[0;32m--> 706\u001b[0m \u001b[38;5;28;43mself\u001b[39;49m\u001b[38;5;241;43m.\u001b[39;49m\u001b[43m_client\u001b[49m\u001b[38;5;241;43m.\u001b[39;49m\u001b[43mpoll\u001b[49m\u001b[43m(\u001b[49m\u001b[43mtimeout_ms\u001b[49m\u001b[38;5;241;43m=\u001b[39;49m\u001b[43mtimeout_ms\u001b[49m\u001b[43m)\u001b[49m\n\u001b[1;32m    707\u001b[0m \u001b[38;5;66;03m# after the long poll, we should check whether the group needs to rebalance\u001b[39;00m\n\u001b[1;32m    708\u001b[0m \u001b[38;5;66;03m# prior to returning data so that the group can stabilize faster\u001b[39;00m\n\u001b[1;32m    709\u001b[0m \u001b[38;5;28;01mif\u001b[39;00m \u001b[38;5;28mself\u001b[39m\u001b[38;5;241m.\u001b[39m_coordinator\u001b[38;5;241m.\u001b[39mneed_rejoin():\n",
      "File \u001b[0;32m/opt/conda/lib/python3.8/site-packages/kafka3/client_async.py:602\u001b[0m, in \u001b[0;36mKafkaClient.poll\u001b[0;34m(self, timeout_ms, future)\u001b[0m\n\u001b[1;32m    599\u001b[0m             timeout \u001b[38;5;241m=\u001b[39m \u001b[38;5;28mmin\u001b[39m(timeout, \u001b[38;5;28mself\u001b[39m\u001b[38;5;241m.\u001b[39mconfig[\u001b[38;5;124m'\u001b[39m\u001b[38;5;124mretry_backoff_ms\u001b[39m\u001b[38;5;124m'\u001b[39m])\n\u001b[1;32m    600\u001b[0m         timeout \u001b[38;5;241m=\u001b[39m \u001b[38;5;28mmax\u001b[39m(\u001b[38;5;241m0\u001b[39m, timeout)  \u001b[38;5;66;03m# avoid negative timeouts\u001b[39;00m\n\u001b[0;32m--> 602\u001b[0m     \u001b[38;5;28;43mself\u001b[39;49m\u001b[38;5;241;43m.\u001b[39;49m\u001b[43m_poll\u001b[49m\u001b[43m(\u001b[49m\u001b[43mtimeout\u001b[49m\u001b[43m \u001b[49m\u001b[38;5;241;43m/\u001b[39;49m\u001b[43m \u001b[49m\u001b[38;5;241;43m1000\u001b[39;49m\u001b[43m)\u001b[49m\n\u001b[1;32m    604\u001b[0m \u001b[38;5;66;03m# called without the lock to avoid deadlock potential\u001b[39;00m\n\u001b[1;32m    605\u001b[0m \u001b[38;5;66;03m# if handlers need to acquire locks\u001b[39;00m\n\u001b[1;32m    606\u001b[0m responses\u001b[38;5;241m.\u001b[39mextend(\u001b[38;5;28mself\u001b[39m\u001b[38;5;241m.\u001b[39m_fire_pending_completed_requests())\n",
      "File \u001b[0;32m/opt/conda/lib/python3.8/site-packages/kafka3/client_async.py:634\u001b[0m, in \u001b[0;36mKafkaClient._poll\u001b[0;34m(self, timeout)\u001b[0m\n\u001b[1;32m    631\u001b[0m \u001b[38;5;28mself\u001b[39m\u001b[38;5;241m.\u001b[39m_register_send_sockets()\n\u001b[1;32m    633\u001b[0m start_select \u001b[38;5;241m=\u001b[39m time\u001b[38;5;241m.\u001b[39mtime()\n\u001b[0;32m--> 634\u001b[0m ready \u001b[38;5;241m=\u001b[39m \u001b[38;5;28;43mself\u001b[39;49m\u001b[38;5;241;43m.\u001b[39;49m\u001b[43m_selector\u001b[49m\u001b[38;5;241;43m.\u001b[39;49m\u001b[43mselect\u001b[49m\u001b[43m(\u001b[49m\u001b[43mtimeout\u001b[49m\u001b[43m)\u001b[49m\n\u001b[1;32m    635\u001b[0m end_select \u001b[38;5;241m=\u001b[39m time\u001b[38;5;241m.\u001b[39mtime()\n\u001b[1;32m    636\u001b[0m \u001b[38;5;28;01mif\u001b[39;00m \u001b[38;5;28mself\u001b[39m\u001b[38;5;241m.\u001b[39m_sensors:\n",
      "File \u001b[0;32m/opt/conda/lib/python3.8/selectors.py:468\u001b[0m, in \u001b[0;36mEpollSelector.select\u001b[0;34m(self, timeout)\u001b[0m\n\u001b[1;32m    466\u001b[0m ready \u001b[38;5;241m=\u001b[39m []\n\u001b[1;32m    467\u001b[0m \u001b[38;5;28;01mtry\u001b[39;00m:\n\u001b[0;32m--> 468\u001b[0m     fd_event_list \u001b[38;5;241m=\u001b[39m \u001b[38;5;28;43mself\u001b[39;49m\u001b[38;5;241;43m.\u001b[39;49m\u001b[43m_selector\u001b[49m\u001b[38;5;241;43m.\u001b[39;49m\u001b[43mpoll\u001b[49m\u001b[43m(\u001b[49m\u001b[43mtimeout\u001b[49m\u001b[43m,\u001b[49m\u001b[43m \u001b[49m\u001b[43mmax_ev\u001b[49m\u001b[43m)\u001b[49m\n\u001b[1;32m    469\u001b[0m \u001b[38;5;28;01mexcept\u001b[39;00m \u001b[38;5;167;01mInterruptedError\u001b[39;00m:\n\u001b[1;32m    470\u001b[0m     \u001b[38;5;28;01mreturn\u001b[39;00m ready\n",
      "\u001b[0;31mKeyboardInterrupt\u001b[0m: "
     ]
    }
   ],
   "source": [
    "# import statements\n",
    "from time import sleep\n",
    "from kafka3 import KafkaConsumer\n",
    "import datetime as dt\n",
    "import matplotlib\n",
    "import matplotlib.pyplot as plt\n",
    "from json import loads\n",
    "\n",
    "# this line is needed for the inline display of graphs in Jupyter Notebook\n",
    "# %matplotlib notebook\n",
    "# %matplotlib inline\n",
    "\n",
    "topic = 'test_out'\n",
    "hostip = \"192.168.8.133\"\n",
    "\n",
    "\n",
    "def connect_kafka_consumer():\n",
    "    _consumer = None\n",
    "    try:\n",
    "        # consumer setup\n",
    "        _consumer = KafkaConsumer(topic,\n",
    "                                  consumer_timeout_ms=10000,  # stop iteration if no message after 10 sec\n",
    "                                  # comment this if you don't want to consume earliest available message\n",
    "                                  auto_offset_reset='latest',\n",
    "                                  bootstrap_servers=[f'{hostip}:9092'],\n",
    "                                  value_deserializer=lambda x: loads(x.decode('ascii')), # decode json into list\n",
    "                                  api_version=(0, 10))\n",
    "    except Exception as ex:\n",
    "        print('Exception while connecting Kafka')\n",
    "    finally:\n",
    "        return _consumer\n",
    "\n",
    "def consume_messages(consumer):\n",
    "    try:\n",
    "        for message in consumer:\n",
    "            if len(message.value) != 0:\n",
    "                print(message.value)\n",
    "    except Exception as ex:\n",
    "        print(str(ex))\n",
    "\n",
    "if __name__ == '__main__':\n",
    "    print(\"reading...\")\n",
    "    consumer = connect_kafka_consumer()\n",
    "    consume_messages(consumer)\n",
    "    sleep(5)"
   ]
  },
  {
   "cell_type": "code",
   "execution_count": null,
   "metadata": {},
   "outputs": [],
   "source": []
  }
 ],
 "metadata": {
  "kernelspec": {
   "display_name": "Python 3 (ipykernel)",
   "language": "python",
   "name": "python3"
  },
  "language_info": {
   "codemirror_mode": {
    "name": "ipython",
    "version": 3
   },
   "file_extension": ".py",
   "mimetype": "text/x-python",
   "name": "python",
   "nbconvert_exporter": "python",
   "pygments_lexer": "ipython3",
   "version": "3.8.15"
  }
 },
 "nbformat": 4,
 "nbformat_minor": 4
}
