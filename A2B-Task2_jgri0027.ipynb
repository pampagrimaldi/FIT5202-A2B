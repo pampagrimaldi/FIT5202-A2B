{
 "cells": [
  {
   "cell_type": "markdown",
   "metadata": {},
   "source": [
    "# 1Predicting sales data using Spark Streaming"
   ]
  },
  {
   "cell_type": "markdown",
   "metadata": {},
   "source": [
    "### 2.1 Create SparkSession\n"
   ]
  },
  {
   "cell_type": "code",
   "execution_count": 1,
   "metadata": {
    "scrolled": true
   },
   "outputs": [],
   "source": [
    "from pyspark.sql.types import *\n",
    "from pyspark.sql import functions as F\n",
    "from pyspark.sql.functions import split\n",
    "from pyspark.sql.functions import explode\n",
    "from pyspark.sql import SparkSession\n",
    "from pyspark import SparkConf\n",
    "from pyspark.sql import SparkSession  # Spark SQL\n",
    "import os\n",
    "os.environ['PYSPARK_SUBMIT_ARGS'] = '--packages org.apache.spark:spark-streaming-kafka-0-10_2.12:3.0.0,org.apache.spark:spark-sql-kafka-0-10_2.12:3.0.0 pyspark-shell'\n",
    "\n",
    "# the below setup will run Spark in local mode with * working processors(equal to logical cores on the machine)\n",
    "master = \"local[4]\"\n",
    "\n",
    "# Setup `appName` field to be displayed at Spark cluster UI page\n",
    "app_name = \"FIT5202 Assignment 2b\"\n",
    "# Setup configuration parameters for Spark\n",
    "spark_conf = (SparkConf()\n",
    "              .setMaster(master)\n",
    "              .setAppName(app_name))\n",
    "\n",
    "# Setup SparkSession and configure it with Melbourne timezone.\n",
    "spark = (\n",
    "    SparkSession\n",
    "    .builder\n",
    "    .config(conf=spark_conf)\n",
    "    .getOrCreate()\n",
    ")"
   ]
  },
  {
   "cell_type": "markdown",
   "metadata": {},
   "source": [
    "### 2.2 Define schema and load file\n",
    "\n"
   ]
  },
  {
   "cell_type": "code",
   "execution_count": 2,
   "metadata": {},
   "outputs": [],
   "source": [
    "# provide a schema to the valuees\n",
    "produce_data_labels = [\n",
    "    (\"Store\", StringType()),\n",
    "    (\"Date\", StringType()),\n",
    "    (\"Temperature\", StringType()),\n",
    "    (\"Fuel_Price\", StringType()),\n",
    "    (\"MarkDown1\", StringType()),\n",
    "    (\"MarkDown2\", StringType()),\n",
    "    (\"MarkDown3\", StringType()),\n",
    "    (\"MarkDown4\", StringType()),\n",
    "    (\"MarkDown5\", StringType()),\n",
    "    (\"CPI\", StringType()),\n",
    "    (\"Unemployment\", StringType()),\n",
    "    (\"IsHoliday\", StringType()),\n",
    "    (\"last_weekly_sales\", StringType()),\n",
    "    (\"ts\", IntegerType())\n",
    "]\n",
    "\n",
    "# features schema\n",
    "produce_data_schema = ArrayType(StructType(\n",
    "    [StructField(x[0], x[1], True) for x in produce_data_labels]))"
   ]
  },
  {
   "cell_type": "markdown",
   "metadata": {},
   "source": [
    "### 2.3 Injest Kafka data\n",
    "\n",
    "\n"
   ]
  },
  {
   "cell_type": "code",
   "execution_count": 4,
   "metadata": {},
   "outputs": [],
   "source": [
    "hostip = \"192.168.8.133\"  # change me\n",
    "topic = 'assignment2b'\n",
    "df = (spark\n",
    "      .readStream\n",
    "      .format(\"kafka\")\n",
    "      .option(\"kafka.bootstrap.servers\", f'{hostip}:9092')\n",
    "      .option(\"subscribe\", topic)\n",
    "      .load()\n",
    "      .selectExpr(\"CAST(key AS STRING)\", \"CAST(value AS STRING)\")\n",
    "     )"
   ]
  },
  {
   "cell_type": "code",
   "execution_count": 5,
   "metadata": {},
   "outputs": [
    {
     "name": "stdout",
     "output_type": "stream",
     "text": [
      "root\n",
      " |-- key: string (nullable = true)\n",
      " |-- value: string (nullable = true)\n",
      "\n"
     ]
    }
   ],
   "source": [
    "df.printSchema()"
   ]
  },
  {
   "cell_type": "code",
   "execution_count": 6,
   "metadata": {},
   "outputs": [],
   "source": [
    "#create a query\n",
    "query = (df\n",
    "         .writeStream\n",
    "         .outputMode(\"append\")\n",
    "         .format(\"console\")\n",
    "         #send the above dataframe to console every 5 seconds\n",
    "         .trigger(processingTime='5 seconds')\n",
    "         .start())"
   ]
  },
  {
   "cell_type": "code",
   "execution_count": 7,
   "metadata": {},
   "outputs": [],
   "source": [
    "query.stop()"
   ]
  },
  {
   "cell_type": "code",
   "execution_count": 8,
   "metadata": {},
   "outputs": [],
   "source": [
    "df = df.select(F.from_json(F.col(\"value\").cast(\"string\"), produce_data_schema).alias('parsed_value'))\n",
    "df = df.select(F.explode(F.col(\"parsed_value\")).alias('unnested_value'))"
   ]
  },
  {
   "cell_type": "code",
   "execution_count": 10,
   "metadata": {},
   "outputs": [],
   "source": [
    "df_formatted = df.select(\n",
    "     F.col(\"unnested_value.Store\").alias(\"Store\"),\n",
    "     F.col(\"unnested_value.Date\").alias(\"Date\"),\n",
    "     F.col(\"unnested_value.Temperature\").alias(\"Temperature\"),\n",
    "     F.col(\"unnested_value.Fuel_Price\").alias(\"Fuel_Price\"),\n",
    "     F.col(\"unnested_value.MarkDown1\").alias(\"MarkDown1\"),\n",
    "     F.col(\"unnested_value.MarkDown2\").alias(\"MarkDown2\"),\n",
    "     F.col(\"unnested_value.MarkDown3\").alias(\"MarkDown3\"),\n",
    "     F.col(\"unnested_value.MarkDown4\").alias(\"MarkDown4\"),\n",
    "     F.col(\"unnested_value.MarkDown5\").alias(\"MarkDown5\"),\n",
    "     F.col(\"unnested_value.CPI\").alias(\"CPI\"),\n",
    "     F.col(\"unnested_value.Unemployment\").alias(\"Unemployment\"),\n",
    "     F.col(\"unnested_value.IsHoliday\").alias(\"IsHoliday\"),\n",
    "     F.col(\"unnested_value.last_weekly_sales\").alias(\"last_weekly_sales\"),\n",
    "     F.col(\"unnested_value.ts\").alias(\"ts\"),\n",
    ")"
   ]
  },
  {
   "cell_type": "markdown",
   "metadata": {},
   "source": [
    "### 2.4 Persist raw data\n"
   ]
  },
  {
   "cell_type": "code",
   "execution_count": 11,
   "metadata": {},
   "outputs": [
    {
     "name": "stdout",
     "output_type": "stream",
     "text": [
      "root\n",
      " |-- Store: string (nullable = true)\n",
      " |-- Date: string (nullable = true)\n",
      " |-- Temperature: string (nullable = true)\n",
      " |-- Fuel_Price: string (nullable = true)\n",
      " |-- MarkDown1: string (nullable = true)\n",
      " |-- MarkDown2: string (nullable = true)\n",
      " |-- MarkDown3: string (nullable = true)\n",
      " |-- MarkDown4: string (nullable = true)\n",
      " |-- MarkDown5: string (nullable = true)\n",
      " |-- CPI: string (nullable = true)\n",
      " |-- Unemployment: string (nullable = true)\n",
      " |-- IsHoliday: string (nullable = true)\n",
      " |-- last_weekly_sales: string (nullable = true)\n",
      " |-- ts: integer (nullable = true)\n",
      "\n"
     ]
    }
   ],
   "source": [
    "df_formatted.printSchema()"
   ]
  },
  {
   "cell_type": "code",
   "execution_count": 12,
   "metadata": {},
   "outputs": [],
   "source": [
    "#create a query\n",
    "query = (df_formatted\n",
    "         .writeStream\n",
    "         .outputMode(\"append\")\n",
    "         .format(\"console\")\n",
    "         #send the above dataframe to console every 5 seconds\n",
    "         .trigger(processingTime='5 seconds')\n",
    "         .start())"
   ]
  },
  {
   "cell_type": "code",
   "execution_count": 13,
   "metadata": {},
   "outputs": [],
   "source": [
    "#stop query\n",
    "query.stop()"
   ]
  },
  {
   "cell_type": "markdown",
   "metadata": {},
   "source": [
    "### 2.5 Transform data formats\n"
   ]
  },
  {
   "cell_type": "code",
   "execution_count": null,
   "metadata": {},
   "outputs": [],
   "source": []
  },
  {
   "cell_type": "markdown",
   "metadata": {},
   "source": [
    "### 2.6 Prepare feature columns\n"
   ]
  },
  {
   "cell_type": "code",
   "execution_count": null,
   "metadata": {},
   "outputs": [],
   "source": []
  },
  {
   "cell_type": "markdown",
   "metadata": {},
   "source": [
    "### 2.7 Join the local data\n"
   ]
  },
  {
   "cell_type": "code",
   "execution_count": null,
   "metadata": {},
   "outputs": [],
   "source": []
  },
  {
   "cell_type": "markdown",
   "metadata": {},
   "source": [
    "### 2.8 Perform predictions\n"
   ]
  },
  {
   "cell_type": "code",
   "execution_count": 7,
   "metadata": {},
   "outputs": [],
   "source": []
  },
  {
   "cell_type": "code",
   "execution_count": 62,
   "metadata": {},
   "outputs": [],
   "source": []
  },
  {
   "cell_type": "code",
   "execution_count": null,
   "metadata": {
    "scrolled": true
   },
   "outputs": [],
   "source": []
  },
  {
   "cell_type": "code",
   "execution_count": null,
   "metadata": {},
   "outputs": [],
   "source": []
  },
  {
   "cell_type": "markdown",
   "metadata": {},
   "source": [
    "### 2.9 write code to process the data following requirements\n"
   ]
  },
  {
   "cell_type": "code",
   "execution_count": 8,
   "metadata": {},
   "outputs": [],
   "source": []
  },
  {
   "cell_type": "code",
   "execution_count": 9,
   "metadata": {
    "scrolled": true
   },
   "outputs": [],
   "source": []
  },
  {
   "cell_type": "code",
   "execution_count": 10,
   "metadata": {
    "scrolled": true
   },
   "outputs": [],
   "source": []
  },
  {
   "cell_type": "markdown",
   "metadata": {},
   "source": [
    "### 2.10 average weekly sales predictions of different types of stores and write the stream back to Kafka sink using a different topic name\n",
    "\n",
    "The data you sended should be like this:\n",
    "\n",
    "|  key   | value  |\n",
    "|  ----  | ----  |\n",
    "| timestamp of window start | JSON of store type and avg sales |\n",
    "| '1673233646'  | '{\"Type\":\"A\",\"predict_weekly_sales\":20000}' |"
   ]
  },
  {
   "cell_type": "code",
   "execution_count": 11,
   "metadata": {},
   "outputs": [],
   "source": []
  },
  {
   "cell_type": "code",
   "execution_count": 12,
   "metadata": {},
   "outputs": [],
   "source": []
  },
  {
   "cell_type": "markdown",
   "metadata": {},
   "source": [
    "\n",
    "##### For cleaning up the quries and files"
   ]
  },
  {
   "cell_type": "code",
   "execution_count": null,
   "metadata": {},
   "outputs": [],
   "source": []
  },
  {
   "cell_type": "code",
   "execution_count": null,
   "metadata": {},
   "outputs": [],
   "source": []
  }
 ],
 "metadata": {
  "kernelspec": {
   "display_name": "Python 3 (ipykernel)",
   "language": "python",
   "name": "python3"
  },
  "language_info": {
   "codemirror_mode": {
    "name": "ipython",
    "version": 3
   },
   "file_extension": ".py",
   "mimetype": "text/x-python",
   "name": "python",
   "nbconvert_exporter": "python",
   "pygments_lexer": "ipython3",
   "version": "3.8.15"
  }
 },
 "nbformat": 4,
 "nbformat_minor": 4
}
